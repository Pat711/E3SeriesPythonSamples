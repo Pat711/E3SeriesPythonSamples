{
 "cells": [
  {
   "cell_type": "markdown",
   "id": "67a716a9",
   "metadata": {},
   "source": [
    "Necessary imports"
   ]
  },
  {
   "cell_type": "code",
   "execution_count": null,
   "id": "052b29c8",
   "metadata": {},
   "outputs": [],
   "source": [
    "import e3series\n",
    "import e3series.tools as e3Tools\n",
    "import sys"
   ]
  },
  {
   "cell_type": "markdown",
   "id": "68e97a67",
   "metadata": {},
   "source": [
    "To redirect all print commands to the E3.series message window simly use e3Tools.E3seriesOutput:"
   ]
  },
  {
   "cell_type": "code",
   "execution_count": null,
   "id": "deed481d",
   "metadata": {},
   "outputs": [],
   "source": [
    "e3 = e3series.Application()\n",
    "sys.stdout = e3Tools.E3seriesOutput(e3, sys.stdout)\n",
    "\n",
    "print(\"Hello World!\")"
   ]
  },
  {
   "cell_type": "markdown",
   "id": "6d2ddc37",
   "metadata": {},
   "source": [
    "If you also want to redirect uncaught exceptions also add:"
   ]
  },
  {
   "cell_type": "code",
   "execution_count": null,
   "id": "e8f2b0ba",
   "metadata": {},
   "outputs": [],
   "source": [
    "sys.stderr = e3Tools.E3seriesOutput(e3, sys.stderr, (255, 0, 0))"
   ]
  },
  {
   "cell_type": "markdown",
   "id": "f4388888",
   "metadata": {},
   "source": [
    "This also works for the E3.dbe."
   ]
  }
 ],
 "metadata": {
  "kernelspec": {
   "display_name": "Python 3",
   "language": "python",
   "name": "python3"
  },
  "language_info": {
   "name": "python",
   "version": "3.13.3"
  }
 },
 "nbformat": 4,
 "nbformat_minor": 5
}
