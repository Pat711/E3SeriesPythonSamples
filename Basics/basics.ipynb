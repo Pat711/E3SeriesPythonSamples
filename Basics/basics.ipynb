{
 "cells": [
  {
   "cell_type": "markdown",
   "id": "8a9e4815",
   "metadata": {},
   "source": [
    "Basic usage of the E3.series Python Library\n",
    "-------------------------------------------\n",
    "# Install e3series package\n",
    "\n",
    "**From Pypi**\n",
    "\n",
    "    pip install e3series\n",
    "\n",
    "**From local file**\n",
    "\n",
    "    pip install --force-reinstall \"C:\\Users\\<user>\\Downloads\\e3series-26.0.0.tar.gz\"\n",
    "\n",
    "The option \"--force-reinstall\" ensures the package is reinstalled, even if it already is up to date\n",
    "\n",
    "**Install a specific version**\n",
    "\n",
    "    pip install --force-reinstall \"e3series==0.1.0\"\n",
    "\n",
    "**Versions**\n",
    "\n",
    "The versions of the E3.series python library are meant to be according to the TLB version of E3.series they are meant to be used with. The TLB version is the version of the type library (the COM interface). This version increases each time to the current version of E3.series, if something changed in the type library. This means the version suited best for your version of E3.series is the one with an equal version number or the greatest smaller version.\n",
    "\n",
    "# Use the library\n",
    "\n",
    "**Import the package in python**"
   ]
  },
  {
   "cell_type": "code",
   "execution_count": 1,
   "id": "db765a8c",
   "metadata": {},
   "outputs": [],
   "source": [
    "import e3series"
   ]
  },
  {
   "cell_type": "markdown",
   "id": "93cc0d9a",
   "metadata": {},
   "source": [
    "**And maybe import tools and enums**"
   ]
  },
  {
   "cell_type": "code",
   "execution_count": 2,
   "id": "fce24d4f",
   "metadata": {},
   "outputs": [],
   "source": [
    "import e3series.tools as e3Tools\n",
    "import e3series.types as e3Types"
   ]
  },
  {
   "cell_type": "markdown",
   "id": "9b45c19c",
   "metadata": {},
   "source": [
    "**Start e3series**\n",
    "\n",
    "Using e3series.tools.StartArguments:"
   ]
  },
  {
   "cell_type": "code",
   "execution_count": null,
   "id": "edb707ac",
   "metadata": {},
   "outputs": [],
   "source": [
    "startArgs = e3Tools.StartArguments()\n",
    "startArgs.formboard = True\n",
    "e3Pid = e3Tools.start(startArgs).pid\n",
    "e3 = e3series.Application(e3Pid)"
   ]
  },
  {
   "cell_type": "markdown",
   "id": "c91bdbe8",
   "metadata": {},
   "source": [
    "or using start with string parameters:"
   ]
  },
  {
   "cell_type": "code",
   "execution_count": null,
   "id": "d2ce6e74",
   "metadata": {},
   "outputs": [],
   "source": [
    "e3Pid = e3Tools.start([\"/formboard\"]).pid\n",
    "e3 = e3series.Application(e3Pid)"
   ]
  },
  {
   "cell_type": "markdown",
   "id": "4a748a5e",
   "metadata": {},
   "source": [
    "or connecting to a already running E3.series instance:"
   ]
  },
  {
   "cell_type": "code",
   "execution_count": null,
   "id": "863c5711",
   "metadata": {},
   "outputs": [],
   "source": [
    "e3 = e3series.Application()"
   ]
  },
  {
   "cell_type": "markdown",
   "id": "115f44fb",
   "metadata": {},
   "source": [
    "The last option will connect to the first instance found in the running object table, which normally is the one that was started first.\n",
    "**Important to note is that if you want a new instance of E3.series to be started, the start() function should be used!** This ensures that E3.series is fully started before the application object is created and mor COM-Actions take place.\n",
    "\n",
    "Starting a DBE instance:"
   ]
  },
  {
   "cell_type": "code",
   "execution_count": 5,
   "id": "f3b8f3bc",
   "metadata": {},
   "outputs": [],
   "source": [
    "startArgs = e3Tools.StartArguments()\n",
    "startArgs.dbe = True\n",
    "e3Pid = e3Tools.start(startArgs).pid\n",
    "dbe = e3series.DbeApplication(e3Pid)"
   ]
  },
  {
   "cell_type": "markdown",
   "id": "b284107f",
   "metadata": {},
   "source": [
    "**Working with the COM Objects**\n",
    "\n",
    "After creating the application object you can work with the COM Interface as usual. The normal COM documentation applies with a few exceptions:\n",
    "- All lists and tuples are 0-based\n",
    "- As python does not support call by reference all [out] parameters are returned in a tuple (including the return value)\n",
    "- All [IN] array-parameters are usually lists, [OUT] array-paramters are tuples"
   ]
  },
  {
   "cell_type": "code",
   "execution_count": null,
   "id": "59123e6b",
   "metadata": {},
   "outputs": [],
   "source": [
    "job = e3.CreateJobObject()\n",
    "ret, allSheets = job.GetSheetIds()  # Multiple return parameters, if the return value is not needed you could also call job.GetSheetIds()[1]\n",
    "sht = job.CreateSheetObject()\n",
    "for shtId in allSheets:\n",
    "    sht.SetId(shtId)\n",
    "    sheetName = sht.GetName()\n",
    "    print(f\"Sheet with ID {shtId} is named {sheetName}.\")"
   ]
  },
  {
   "cell_type": "markdown",
   "id": "33566ea8",
   "metadata": {},
   "source": [
    "**Using enums**\n",
    "\n",
    "Located in e3series.types you can find some enum types for easier use of related functions. The functions which use the applicable values are listen in the comment of the enum as well as in the parameter description they can be used for.\n",
    "Keep in mind that those enums are only helpers and he functions still use the underlying type, so you have to pass Enum.value to them.\n",
    "One of the for now few examples is the ItemType:"
   ]
  },
  {
   "cell_type": "code",
   "execution_count": null,
   "id": "3a17357e",
   "metadata": {},
   "outputs": [],
   "source": [
    "_, groups = job.GetGroupIds()\n",
    "grp = job.CreateGroupObject()\n",
    "grp.SetId(groups[0])        # requires at least one group in the open project\n",
    "for item in grp.GetItems()[1]:\n",
    "    itemType = e3Types.ItemType(job.GetItemType(item))\n",
    "    print(f\"The item {item} has the item type {itemType.name}\")"
   ]
  }
 ],
 "metadata": {
  "kernelspec": {
   "display_name": "Python 3",
   "language": "python",
   "name": "python3"
  },
  "language_info": {
   "codemirror_mode": {
    "name": "ipython",
    "version": 3
   },
   "file_extension": ".py",
   "mimetype": "text/x-python",
   "name": "python",
   "nbconvert_exporter": "python",
   "pygments_lexer": "ipython3",
   "version": "3.11.3"
  }
 },
 "nbformat": 4,
 "nbformat_minor": 5
}
