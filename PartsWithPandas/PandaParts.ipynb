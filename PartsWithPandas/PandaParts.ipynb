{
 "cells": [
  {
   "cell_type": "markdown",
   "id": "ef4ba397",
   "metadata": {},
   "source": [
    "Connect to E3.series ad get the BOM as array"
   ]
  },
  {
   "cell_type": "code",
   "execution_count": null,
   "id": "cd6924bc",
   "metadata": {},
   "outputs": [],
   "source": [
    "import e3series\n",
    "\n",
    "e3 = e3series.Application()                                 # Connect to that instance\n",
    "job = e3.CreateJobObject()                                  # If no job is open we exit the script  \n",
    "bom = job.GetBomPartList(\"\", \"4.1\", 0, \"\", \"\", \"\", [\"\"])[1] # Get the BOM from E3.series\n",
    "\n",
    "for line in bom:\n",
    "    print(line)"
   ]
  },
  {
   "cell_type": "markdown",
   "id": "a281f527",
   "metadata": {},
   "source": [
    "Convert the bom to pandas DataFrame"
   ]
  },
  {
   "cell_type": "code",
   "execution_count": null,
   "id": "e7c9bc54",
   "metadata": {},
   "outputs": [],
   "source": [
    "import pandas as pd\n",
    "pandaBom = pd.DataFrame(bom) \n",
    "display(pandaBom) # Display the BOM in a Jupyter Notebook"
   ]
  },
  {
   "cell_type": "markdown",
   "id": "463be72c",
   "metadata": {},
   "source": [
    "Rename the Columns"
   ]
  },
  {
   "cell_type": "code",
   "execution_count": null,
   "id": "7be300ba",
   "metadata": {},
   "outputs": [],
   "source": [
    "import BomColumnNames\n",
    "import e3series.tools as e3Tools\n",
    "e3Tools.get_running_e3s\n",
    "pandaBom.rename(columns=BomColumnNames.get_bom_default_column_names(), inplace=True) # Rename the columns\n",
    "\n",
    "pandaBom = pandaBom[[\"Designation\", \"Assignment\", \"Location\", \"Component Name\", \"Device Type\", \"Quantity\"]]\n",
    "display(pandaBom)"
   ]
  },
  {
   "cell_type": "markdown",
   "id": "f42fd698",
   "metadata": {},
   "source": [
    "Save the BOM to anExcel file"
   ]
  },
  {
   "cell_type": "code",
   "execution_count": null,
   "id": "a872d8b2",
   "metadata": {},
   "outputs": [],
   "source": [
    "from tkinter import filedialog\n",
    "destination = filedialog.asksaveasfilename(defaultextension=\".xlsx\", filetypes=[(\"Excel files\", \"*.xlsx\"), (\"All files\", \"*.*\")]) # Ask the user for a destination file\n",
    "pandaBom.to_excel(destination)"
   ]
  }
 ],
 "metadata": {
  "kernelspec": {
   "display_name": "Python 3",
   "language": "python",
   "name": "python3"
  },
  "language_info": {
   "codemirror_mode": {
    "name": "ipython",
    "version": 3
   },
   "file_extension": ".py",
   "mimetype": "text/x-python",
   "name": "python",
   "nbconvert_exporter": "python",
   "pygments_lexer": "ipython3",
   "version": "3.11.3"
  }
 },
 "nbformat": 4,
 "nbformat_minor": 5
}
